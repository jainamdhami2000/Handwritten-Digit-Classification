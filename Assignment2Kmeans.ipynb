{
 "cells": [
  {
   "cell_type": "markdown",
   "metadata": {
    "colab_type": "text",
    "id": "SSMnFb4_Fq75"
   },
   "source": [
    "# Importing Libraries"
   ]
  },
  {
   "cell_type": "code",
   "execution_count": 1,
   "metadata": {
    "colab": {},
    "colab_type": "code",
    "id": "M2WBKxg8IKhs"
   },
   "outputs": [
    {
     "name": "stderr",
     "output_type": "stream",
     "text": [
      "Using TensorFlow backend.\n"
     ]
    }
   ],
   "source": [
    "import numpy as np\n",
    "import matplotlib.pyplot as plt\n",
    "from keras.preprocessing.image import ImageDataGenerator\n",
    "import os, sys\n",
    "from IPython.display import display\n",
    "from IPython.display import Image as _Imgdis\n",
    "from PIL import Image\n",
    "import numpy as np\n",
    "from skimage import color\n",
    "from skimage import io"
   ]
  },
  {
   "cell_type": "markdown",
   "metadata": {
    "colab_type": "text",
    "id": "vLA8jWbuF505"
   },
   "source": [
    "Unzipping dataset in drive(if done on colab)"
   ]
  },
  {
   "cell_type": "code",
   "execution_count": 2,
   "metadata": {
    "colab": {
     "base_uri": "https://localhost:8080/",
     "height": 1000
    },
    "colab_type": "code",
    "id": "uCCM1n4WXprV",
    "outputId": "6358579d-9c08-4da4-f655-e9d4c35e2054"
   },
   "outputs": [
    {
     "name": "stdout",
     "output_type": "stream",
     "text": [
      "unzip:  cannot find or open drive/My Drive/1272_2280_bundle_archive.zip, drive/My Drive/1272_2280_bundle_archive.zip.zip or drive/My Drive/1272_2280_bundle_archive.zip.ZIP.\r\n"
     ]
    }
   ],
   "source": [
    "! unzip 'drive/My Drive/1272_2280_bundle_archive.zip'"
   ]
  },
  {
   "cell_type": "markdown",
   "metadata": {
    "colab_type": "text",
    "id": "axdnogzNGzLk"
   },
   "source": [
    "## Importing Training Set"
   ]
  },
  {
   "cell_type": "markdown",
   "metadata": {
    "colab_type": "text",
    "id": "E9wJBJQrGGLO"
   },
   "source": [
    "Taking all file names of images in the training set folder (trainingSet) and converting to a numpy array"
   ]
  },
  {
   "cell_type": "code",
   "execution_count": 3,
   "metadata": {
    "colab": {},
    "colab_type": "code",
    "id": "OIsAcETvTnF2"
   },
   "outputs": [],
   "source": [
    "from skimage import color\n",
    "from skimage import io\n",
    "x_train=np.empty((42000,28,28),dtype='uint8')\n",
    "y_train = np.empty((42000,1),dtype='uint8')\n",
    "c = 0\n",
    "for x in range(10):\n",
    "   training_folder = \"trainingSet/trainingSet/\"+str(x)\n",
    "   X_train_file=[f for f in os.listdir(training_folder) if os.path.isfile(os.path.join(training_folder, f))] \n",
    "   for z in X_train_file:\n",
    "     x_train[c] = np.array(io.imread('trainingSet/trainingSet/'+str(x)+'/'+z))\n",
    "     y_train[c] = x\n",
    "     c+=1"
   ]
  },
  {
   "cell_type": "markdown",
   "metadata": {
    "colab_type": "text",
    "id": "brS_8f-AG6tV"
   },
   "source": [
    "## Importing Training Set"
   ]
  },
  {
   "cell_type": "markdown",
   "metadata": {
    "colab_type": "text",
    "id": "uETxFP9XG9qe"
   },
   "source": [
    "Taking all file names of images in the test set folder (trainingSample) and converting to a numpy array"
   ]
  },
  {
   "cell_type": "code",
   "execution_count": 4,
   "metadata": {
    "colab": {},
    "colab_type": "code",
    "id": "2lm5ik_ra_fn"
   },
   "outputs": [],
   "source": [
    "x_test=np.empty((600,28,28),dtype='uint8')\n",
    "y_test = np.empty((600,1),dtype='uint8')\n",
    "c = 0\n",
    "for x in range(10):\n",
    "   testing_folder = \"trainingSample/trainingSample/\"+str(x)\n",
    "   X_test_file=[f for f in os.listdir(testing_folder) if os.path.isfile(os.path.join(testing_folder, f))] \n",
    "   for z in X_test_file:\n",
    "     x_test[c] = np.array(io.imread('trainingSample/trainingSample/'+str(x)+'/'+z))\n",
    "     y_test[c] = x\n",
    "     c+=1"
   ]
  },
  {
   "cell_type": "markdown",
   "metadata": {
    "colab_type": "text",
    "id": "XBENfmUeHIAn"
   },
   "source": [
    "Checking type of training and test set"
   ]
  },
  {
   "cell_type": "code",
   "execution_count": 5,
   "metadata": {
    "colab": {
     "base_uri": "https://localhost:8080/",
     "height": 102
    },
    "colab_type": "code",
    "id": "TI4Nd2IgH2lC",
    "outputId": "eb3cc07e-6ed4-4646-c59f-0f86fe943fef"
   },
   "outputs": [
    {
     "name": "stdout",
     "output_type": "stream",
     "text": [
      "<class 'numpy.ndarray'>\n",
      "<class 'numpy.ndarray'>\n",
      "<class 'numpy.ndarray'>\n",
      "<class 'numpy.ndarray'>\n"
     ]
    },
    {
     "data": {
      "text/plain": [
       "42000"
      ]
     },
     "execution_count": 5,
     "metadata": {},
     "output_type": "execute_result"
    }
   ],
   "source": [
    "print(type(x_train))\n",
    "print(type(x_test))\n",
    "print(type(y_train))\n",
    "print(type(y_test))\n",
    "len(x_train)"
   ]
  },
  {
   "cell_type": "markdown",
   "metadata": {
    "colab_type": "text",
    "id": "deTrwzNDHM8t"
   },
   "source": [
    "Checking shape of training and test set"
   ]
  },
  {
   "cell_type": "code",
   "execution_count": 6,
   "metadata": {
    "colab": {
     "base_uri": "https://localhost:8080/",
     "height": 85
    },
    "colab_type": "code",
    "id": "ZfCyxcH_H8Pq",
    "outputId": "5db62765-1f18-44e8-fcf5-19290420aab3"
   },
   "outputs": [
    {
     "name": "stdout",
     "output_type": "stream",
     "text": [
      "(42000, 28, 28)\n",
      "(600, 28, 28)\n",
      "(42000, 1)\n",
      "(600, 1)\n"
     ]
    }
   ],
   "source": [
    "print(x_train.shape)\n",
    "print(x_test.shape)\n",
    "print(y_train.shape)\n",
    "print(y_test.shape)"
   ]
  },
  {
   "cell_type": "markdown",
   "metadata": {
    "colab_type": "text",
    "id": "5apkXMIyHRjb"
   },
   "source": [
    "Displaying first 9 images of training set"
   ]
  },
  {
   "cell_type": "code",
   "execution_count": 7,
   "metadata": {
    "colab": {
     "base_uri": "https://localhost:8080/",
     "height": 556
    },
    "colab_type": "code",
    "id": "KCd6TNfOH-px",
    "outputId": "384f9af0-fe88-4efb-a5de-78cfc2d65eeb"
   },
   "outputs": [
    {
     "data": {
      "text/plain": [
       "<Figure size 432x288 with 0 Axes>"
      ]
     },
     "metadata": {},
     "output_type": "display_data"
    },
    {
     "data": {
      "image/png": "[encoded data removed]",
      "text/plain": [
       "<Figure size 720x648 with 9 Axes>"
      ]
     },
     "metadata": {
      "needs_background": "light"
     },
     "output_type": "display_data"
    }
   ],
   "source": [
    "plt.gray() # B/W Images\n",
    "plt.figure(figsize = (10,9)) # Adjusting figure size\n",
    "# Displaying a grid of 3x3 images\n",
    "for i in range(9):\n",
    " plt.subplot(3,3,i+1)\n",
    " plt.imshow(x_train[i])"
   ]
  },
  {
   "cell_type": "markdown",
   "metadata": {
    "colab_type": "text",
    "id": "oqKnE6p9HZLF"
   },
   "source": [
    "Printing examples in 'y_train'"
   ]
  },
  {
   "cell_type": "code",
   "execution_count": 8,
   "metadata": {
    "colab": {
     "base_uri": "https://localhost:8080/",
     "height": 102
    },
    "colab_type": "code",
    "id": "XLh3SSE7IEZv",
    "outputId": "5097c5f5-b850-4415-d217-5585606118a5"
   },
   "outputs": [
    {
     "name": "stdout",
     "output_type": "stream",
     "text": [
      "0\n",
      "0\n",
      "0\n",
      "0\n",
      "0\n"
     ]
    }
   ],
   "source": [
    "# Printing examples in 'y_train'\n",
    "for i in range(5):\n",
    "  print(y_train[i][0])"
   ]
  },
  {
   "cell_type": "markdown",
   "metadata": {
    "colab_type": "text",
    "id": "mQaPzYYjHb6J"
   },
   "source": [
    "Checking the minimum and maximum values of x_train"
   ]
  },
  {
   "cell_type": "code",
   "execution_count": 9,
   "metadata": {
    "colab": {
     "base_uri": "https://localhost:8080/",
     "height": 51
    },
    "colab_type": "code",
    "id": "EfhUwvFAIT0t",
    "outputId": "ba56d570-cfc3-49b8-80e3-af9a02ed39ce"
   },
   "outputs": [
    {
     "name": "stdout",
     "output_type": "stream",
     "text": [
      "0\n",
      "255\n"
     ]
    }
   ],
   "source": [
    "# Checking the minimum and maximum values of x_train\n",
    "print(x_train.min())\n",
    "print(x_train.max())"
   ]
  },
  {
   "cell_type": "markdown",
   "metadata": {
    "colab_type": "text",
    "id": "jL2M4cOXHjMJ"
   },
   "source": [
    "Data Normalization"
   ]
  },
  {
   "cell_type": "code",
   "execution_count": 10,
   "metadata": {
    "colab": {},
    "colab_type": "code",
    "id": "FSGU9DZIIhEb"
   },
   "outputs": [],
   "source": [
    "# Data Normalization\n",
    "# Conversion to float\n",
    "x_train = x_train.astype('float32') \n",
    "x_test = x_test.astype('float32')# Normalization\n",
    "x_train = x_train/255.0\n",
    "x_test = x_test/255.0"
   ]
  },
  {
   "cell_type": "markdown",
   "metadata": {
    "colab_type": "text",
    "id": "4VaGDN8nHlW1"
   },
   "source": [
    "Checking the minimum and maximum values of x_train"
   ]
  },
  {
   "cell_type": "code",
   "execution_count": 11,
   "metadata": {
    "colab": {
     "base_uri": "https://localhost:8080/",
     "height": 51
    },
    "colab_type": "code",
    "id": "CImM6LOYIlTM",
    "outputId": "2ad333ca-782c-43ce-9ecb-9320594f349e"
   },
   "outputs": [
    {
     "name": "stdout",
     "output_type": "stream",
     "text": [
      "0.0\n",
      "1.0\n"
     ]
    }
   ],
   "source": [
    "# Checking the minimum and maximum values of x_train\n",
    "print(x_train.min())\n",
    "print(x_train.max())"
   ]
  },
  {
   "cell_type": "markdown",
   "metadata": {
    "colab_type": "text",
    "id": "Rbdu7FI7HnJD"
   },
   "source": [
    "Reshaping input data since the input data have to be converted from 3 dimensional format to 2 dimensional format to be fed into the K-Means Clustering algorithm"
   ]
  },
  {
   "cell_type": "code",
   "execution_count": 12,
   "metadata": {
    "colab": {},
    "colab_type": "code",
    "id": "mobCgylSIwtd"
   },
   "outputs": [],
   "source": [
    "# Reshaping input data\n",
    "X_train = x_train.reshape(len(x_train),-1)\n",
    "X_test = x_test.reshape(len(x_test),-1)"
   ]
  },
  {
   "cell_type": "code",
   "execution_count": 13,
   "metadata": {
    "colab": {
     "base_uri": "https://localhost:8080/",
     "height": 51
    },
    "colab_type": "code",
    "id": "FeUWGC9OI3jO",
    "outputId": "d40d37a0-cc35-4796-e6c9-6b49fe34c023"
   },
   "outputs": [
    {
     "name": "stdout",
     "output_type": "stream",
     "text": [
      "(42000, 784)\n",
      "(600, 784)\n"
     ]
    }
   ],
   "source": [
    "# Checking the shape\n",
    "print(X_train.shape)\n",
    "print(X_test.shape)"
   ]
  },
  {
   "cell_type": "markdown",
   "metadata": {
    "colab_type": "text",
    "id": "gbjT9TX_IDyu"
   },
   "source": [
    "### Building the model"
   ]
  },
  {
   "cell_type": "code",
   "execution_count": 14,
   "metadata": {
    "colab": {
     "base_uri": "https://localhost:8080/",
     "height": 85
    },
    "colab_type": "code",
    "id": "v13SgIVGI6ke",
    "outputId": "eb5cdef2-46ca-4daf-e54c-4f0d00271c30"
   },
   "outputs": [
    {
     "data": {
      "text/plain": [
       "MiniBatchKMeans(batch_size=100, compute_labels=True, init='k-means++',\n",
       "                init_size=None, max_iter=100, max_no_improvement=10,\n",
       "                n_clusters=10, n_init=3, random_state=None,\n",
       "                reassignment_ratio=0.01, tol=0.0, verbose=0)"
      ]
     },
     "execution_count": 14,
     "metadata": {},
     "output_type": "execute_result"
    }
   ],
   "source": [
    "from sklearn.cluster import MiniBatchKMeans\n",
    "total_clusters = len(np.unique(y_test))\n",
    "kmeans = MiniBatchKMeans(n_clusters = total_clusters)\n",
    "kmeans.fit(X_train)"
   ]
  },
  {
   "cell_type": "code",
   "execution_count": 15,
   "metadata": {
    "colab": {
     "base_uri": "https://localhost:8080/",
     "height": 34
    },
    "colab_type": "code",
    "id": "8iOkGFg7JBve",
    "outputId": "860ca330-e3f7-46cf-dfc0-34d074cf6e71"
   },
   "outputs": [
    {
     "data": {
      "text/plain": [
       "array([3, 3, 3, ..., 6, 2, 2], dtype=int32)"
      ]
     },
     "execution_count": 15,
     "metadata": {},
     "output_type": "execute_result"
    }
   ],
   "source": [
    "kmeans.labels_"
   ]
  },
  {
   "cell_type": "markdown",
   "metadata": {
    "colab_type": "text",
    "id": "ijodUK9eIeCX"
   },
   "source": [
    "Concatinating y_train and y_test since retrieve_info takes 1D array"
   ]
  },
  {
   "cell_type": "code",
   "execution_count": 16,
   "metadata": {
    "colab": {},
    "colab_type": "code",
    "id": "C54MRZ0fuxp6"
   },
   "outputs": [],
   "source": [
    "y_train = np.concatenate(y_train)\n",
    "y_test = np.concatenate(y_test)"
   ]
  },
  {
   "cell_type": "markdown",
   "metadata": {
    "colab_type": "text",
    "id": "2WgQAMFEI3Ci"
   },
   "source": [
    " Associates most probable label with each cluster in KMeans model\n",
    "  returns: dictionary of clusters assigned to each label"
   ]
  },
  {
   "cell_type": "code",
   "execution_count": 17,
   "metadata": {
    "colab": {},
    "colab_type": "code",
    "id": "gJkiVXiDJRa3"
   },
   "outputs": [],
   "source": [
    "def retrieve_info(cluster_labels,y_train):\n",
    "  # Initializing\n",
    "  reference_labels = {} \n",
    "  # For loop to run through each label of cluster label\n",
    "  for i in range(len(np.unique(kmeans.labels_))):\n",
    "    index = np.where(cluster_labels == i,1,0)\n",
    "    num = np.bincount(y_train[index==1]).argmax()\n",
    "    reference_labels[i] = num\n",
    "  return reference_labels"
   ]
  },
  {
   "cell_type": "code",
   "execution_count": 18,
   "metadata": {
    "colab": {
     "base_uri": "https://localhost:8080/",
     "height": 34
    },
    "colab_type": "code",
    "id": "vsekaj_PJcH4",
    "outputId": "5cf11434-64b6-48e8-93e8-fbeee319766c"
   },
   "outputs": [
    {
     "data": {
      "text/plain": [
       "{0: 6, 1: 1, 2: 7, 3: 0, 4: 3, 5: 3, 6: 4, 7: 8, 8: 2, 9: 1}"
      ]
     },
     "execution_count": 18,
     "metadata": {},
     "output_type": "execute_result"
    }
   ],
   "source": [
    "retrieve_info(kmeans.labels_,y_train)"
   ]
  },
  {
   "cell_type": "markdown",
   "metadata": {
    "colab_type": "text",
    "id": "CvoRdoPrJIhV"
   },
   "source": [
    "We run the ‘retrieve_info’ function and process it to get ‘number_labels’ which denotes the number displayed in image."
   ]
  },
  {
   "cell_type": "code",
   "execution_count": 19,
   "metadata": {
    "colab": {},
    "colab_type": "code",
    "id": "rN_HuVe9Jy9L"
   },
   "outputs": [],
   "source": [
    "reference_labels = retrieve_info(kmeans.labels_,y_train)\n",
    "number_labels = np.random.rand(len(kmeans.labels_))\n",
    "for i in range(len(kmeans.labels_)):\n",
    "  number_labels[i] = reference_labels[kmeans.labels_[i]]"
   ]
  },
  {
   "cell_type": "markdown",
   "metadata": {
    "colab_type": "text",
    "id": "MHro9vzIJLb8"
   },
   "source": [
    "Comparing Predicted values and Actual values"
   ]
  },
  {
   "cell_type": "code",
   "execution_count": 20,
   "metadata": {
    "colab": {
     "base_uri": "https://localhost:8080/",
     "height": 51
    },
    "colab_type": "code",
    "id": "N-YMIl-3rrHo",
    "outputId": "21d6a3a9-36e6-441c-fb9a-444533738cff"
   },
   "outputs": [
    {
     "name": "stdout",
     "output_type": "stream",
     "text": [
      "[0 0 0 3 0 3 3 6 0 0 0 0 0 0 0 0 0 0 0 0]\n",
      "[0 0 0 0 0 0 0 0 0 0 0 0 0 0 0 0 0 0 0 0]\n"
     ]
    }
   ],
   "source": [
    "# Comparing Predicted values and Actual values\n",
    "print(number_labels[:20].astype('int'))\n",
    "print(y_train[:20])"
   ]
  },
  {
   "cell_type": "code",
   "execution_count": 21,
   "metadata": {
    "colab": {
     "base_uri": "https://localhost:8080/",
     "height": 34
    },
    "colab_type": "code",
    "id": "4DSKuBFmrvR6",
    "outputId": "9c494ef9-a41a-4299-f243-37531c8ae3ef"
   },
   "outputs": [
    {
     "name": "stdout",
     "output_type": "stream",
     "text": [
      "0.5563809523809524\n"
     ]
    }
   ],
   "source": [
    "# Calculating accuracy score\n",
    "from sklearn.metrics import accuracy_score\n",
    "print(accuracy_score(number_labels,y_train))"
   ]
  },
  {
   "cell_type": "markdown",
   "metadata": {
    "colab_type": "text",
    "id": "NezvNEBwJZV7"
   },
   "source": [
    "Function to calculate metrics for the model"
   ]
  },
  {
   "cell_type": "code",
   "execution_count": 22,
   "metadata": {
    "colab": {},
    "colab_type": "code",
    "id": "z5nQr_oFsQRA"
   },
   "outputs": [],
   "source": [
    "# Function to calculate metrics for the model\n",
    "def calculate_metrics(model,output):\n",
    "  print('Number of clusters is {}'.format(model.n_clusters))\n",
    "  print('Inertia : {}'.format(model.inertia_))\n",
    "  print('Homogeneity :       {}'.format(metrics.homogeneity_score(output,model.labels_)))"
   ]
  },
  {
   "cell_type": "markdown",
   "metadata": {
    "colab_type": "text",
    "id": "SOqGbHt5JbdS"
   },
   "source": [
    "Applying K means randomply on a certain cluster numbers and checking the accuracy"
   ]
  },
  {
   "cell_type": "code",
   "execution_count": 23,
   "metadata": {
    "colab": {
     "base_uri": "https://localhost:8080/",
     "height": 629
    },
    "colab_type": "code",
    "id": "qzHCEk8Pw6L9",
    "outputId": "38a73e2e-d04b-40e0-816e-6b61d9aeaa49"
   },
   "outputs": [
    {
     "name": "stdout",
     "output_type": "stream",
     "text": [
      "Number of clusters is 15\n",
      "Inertia : 1508711.5\n",
      "Homogeneity :       0.5307812516400855\n",
      "Accuracy score : 0.6082380952380952\n",
      "\n",
      "\n",
      "Number of clusters is 20\n",
      "Inertia : 1449204.125\n",
      "Homogeneity :       0.5738239677188418\n",
      "Accuracy score : 0.6687142857142857\n",
      "\n",
      "\n",
      "Number of clusters is 35\n",
      "Inertia : 1322793.0\n",
      "Homogeneity :       0.6900984662102265\n",
      "Accuracy score : 0.7637380952380952\n",
      "\n",
      "\n",
      "Number of clusters is 64\n",
      "Inertia : 1220802.375\n",
      "Homogeneity :       0.7462026029706282\n",
      "Accuracy score : 0.8054761904761905\n",
      "\n",
      "\n",
      "Number of clusters is 170\n",
      "Inertia : 1079864.0\n",
      "Homogeneity :       0.8169521826558891\n",
      "Accuracy score : 0.8736904761904762\n",
      "\n",
      "\n",
      "Number of clusters is 256\n",
      "Inertia : 1024545.0\n",
      "Homogeneity :       0.8389670698708878\n",
      "Accuracy score : 0.8856190476190476\n",
      "\n",
      "\n"
     ]
    }
   ],
   "source": [
    "from sklearn import metrics\n",
    "cluster_number = [15,20,35,64,170,256]\n",
    "for i in cluster_number:\n",
    "  total_clusters = len(np.unique(y_test))# Initialize the K-Means model\n",
    "  kmeans = MiniBatchKMeans(n_clusters = i)# Fitting the model to training set\n",
    "  kmeans.fit(X_train)# Calculating the metrics\n",
    "  calculate_metrics(kmeans,y_train)# Calculating reference_labels\n",
    "  reference_labels = retrieve_info(kmeans.labels_,y_train)# ‘number_labels’ is a list which denotes the number displayed in image\n",
    "  number_labels = np.random.rand(len(kmeans.labels_))\n",
    "  for i in range(len(kmeans.labels_)):\n",
    "    number_labels[i] = reference_labels[kmeans.labels_[i]]\n",
    "  print('Accuracy score : {}'.format(accuracy_score(number_labels,y_train)))\n",
    "  print('\\n')"
   ]
  },
  {
   "cell_type": "markdown",
   "metadata": {
    "colab_type": "text",
    "id": "_FSJR7NfJpZA"
   },
   "source": [
    "Testing model on Testing set"
   ]
  },
  {
   "cell_type": "code",
   "execution_count": 24,
   "metadata": {
    "colab": {
     "base_uri": "https://localhost:8080/",
     "height": 119
    },
    "colab_type": "code",
    "id": "16wN7bgCxaL9",
    "outputId": "fff0635a-827f-4473-8d3f-587596fc666f"
   },
   "outputs": [
    {
     "name": "stdout",
     "output_type": "stream",
     "text": [
      "Number of clusters is 165\n",
      "Inertia : 11285.1162109375\n",
      "Homogeneity :       0.8327428632078636\n",
      "Accuracy score : 0.8416666666666667\n",
      "\n",
      "\n"
     ]
    }
   ],
   "source": [
    "# Initialize the K-Means model\n",
    "kmeans = MiniBatchKMeans(n_clusters = 165)\n",
    "# Fitting the model to  testing set\n",
    "kmeans.fit(X_test)\n",
    "# Calculating the metrics\n",
    "calculate_metrics(kmeans,y_test)\n",
    "# Calculating the reference_labels\n",
    "reference_labels = retrieve_info(kmeans.labels_,y_test)\n",
    "# ‘number_labels’ is a list which denotes the number displayed in image\n",
    "number_labels = np.random.rand(len(kmeans.labels_))\n",
    "for i in range(len(kmeans.labels_)):\n",
    "  number_labels[i] = reference_labels[kmeans.labels_[i]] \n",
    "print('Accuracy score : {}'.format(accuracy_score(number_labels,y_test)))\n",
    "print('\\n')"
   ]
  },
  {
   "cell_type": "code",
   "execution_count": 25,
   "metadata": {
    "colab": {},
    "colab_type": "code",
    "id": "EclAEh52zJ5x"
   },
   "outputs": [],
   "source": [
    "# Cluster centroids is stored in ‘centroids’\n",
    "centroids = kmeans.cluster_centers_"
   ]
  },
  {
   "cell_type": "code",
   "execution_count": 26,
   "metadata": {
    "colab": {
     "base_uri": "https://localhost:8080/",
     "height": 34
    },
    "colab_type": "code",
    "id": "Hk-yoEpezMfe",
    "outputId": "9d0f28e2-f047-4d90-f594-be2cf920a544"
   },
   "outputs": [
    {
     "data": {
      "text/plain": [
       "(165, 784)"
      ]
     },
     "execution_count": 26,
     "metadata": {},
     "output_type": "execute_result"
    }
   ],
   "source": [
    "centroids.shape"
   ]
  },
  {
   "cell_type": "code",
   "execution_count": 27,
   "metadata": {
    "colab": {},
    "colab_type": "code",
    "id": "5EPbUYfHzOOQ"
   },
   "outputs": [],
   "source": [
    "centroids = centroids.reshape(165,28,28)"
   ]
  },
  {
   "cell_type": "code",
   "execution_count": 28,
   "metadata": {
    "colab": {},
    "colab_type": "code",
    "id": "uMl8itrQzQBN"
   },
   "outputs": [],
   "source": [
    "centroids = centroids * 255"
   ]
  },
  {
   "cell_type": "code",
   "execution_count": 29,
   "metadata": {
    "colab": {
     "base_uri": "https://localhost:8080/",
     "height": 537
    },
    "colab_type": "code",
    "id": "fg3f2x3uzRZ4",
    "outputId": "e0be0500-f01c-4b0f-9f3b-79f5758b8c8a"
   },
   "outputs": [
    {
     "data": {
      "image/png": "[encoded data removed]",
      "text/plain": [
       "<Figure size 720x648 with 16 Axes>"
      ]
     },
     "metadata": {
      "needs_background": "light"
     },
     "output_type": "display_data"
    }
   ],
   "source": [
    "plt.figure(figsize = (10,9))\n",
    "bottom = 0.35\n",
    "for i in range(16):\n",
    "  plt.subplots_adjust(bottom)\n",
    "  plt.subplot(4,4,i+1)\n",
    "  plt.title('Number:{}'.format(reference_labels[i]),fontsize = 17)\n",
    "  plt.imshow(centroids[i])"
   ]
  },
  {
   "cell_type": "code",
   "execution_count": 30,
   "metadata": {
    "colab": {
     "base_uri": "https://localhost:8080/",
     "height": 282
    },
    "colab_type": "code",
    "id": "7xRlrK6ZJ9QM",
    "outputId": "ab109d49-8e74-4ef6-96b1-4098b3db633f"
   },
   "outputs": [
    {
     "data": {
      "text/plain": [
       "<matplotlib.image.AxesImage at 0x7fa021716190>"
      ]
     },
     "execution_count": 30,
     "metadata": {},
     "output_type": "execute_result"
    },
    {
     "data": {
      "image/png": "[encoded data removed]",
      "text/plain": [
       "<Figure size 432x288 with 1 Axes>"
      ]
     },
     "metadata": {
      "needs_background": "light"
     },
     "output_type": "display_data"
    }
   ],
   "source": [
    "# Reading the image\n",
    "image = plt.imread('testSample/testSample/img_39.jpg')\n",
    "plt.imshow(image)"
   ]
  },
  {
   "cell_type": "code",
   "execution_count": 31,
   "metadata": {
    "colab": {},
    "colab_type": "code",
    "id": "sk69I5Ik2iJQ"
   },
   "outputs": [],
   "source": [
    "image = io.imread('testSample/testSample/img_39.jpg')"
   ]
  },
  {
   "cell_type": "code",
   "execution_count": 32,
   "metadata": {
    "colab": {},
    "colab_type": "code",
    "id": "UOkwaw5-e-Us"
   },
   "outputs": [],
   "source": [
    "# Reshaping into a row vector\n",
    "image = image.reshape(1,28*28)"
   ]
  },
  {
   "cell_type": "code",
   "execution_count": 33,
   "metadata": {
    "colab": {},
    "colab_type": "code",
    "id": "oIX5XfIr3OPr"
   },
   "outputs": [],
   "source": [
    "image = image.astype(np.float32)"
   ]
  },
  {
   "cell_type": "code",
   "execution_count": 34,
   "metadata": {
    "colab": {},
    "colab_type": "code",
    "id": "VoUOxRpn1gpD"
   },
   "outputs": [],
   "source": [
    "predicted_cluster = kmeans.predict(image)"
   ]
  },
  {
   "cell_type": "code",
   "execution_count": 35,
   "metadata": {
    "colab": {
     "base_uri": "https://localhost:8080/",
     "height": 88
    },
    "colab_type": "code",
    "id": "CHeA9PC72FJR",
    "outputId": "8d90be37-deca-4c50-b7b7-6da475e4fb99"
   },
   "outputs": [
    {
     "name": "stderr",
     "output_type": "stream",
     "text": [
      "/home/jainam/anaconda3/lib/python3.7/site-packages/ipykernel_launcher.py:1: FutureWarning: Using a non-tuple sequence for multidimensional indexing is deprecated; use `arr[tuple(seq)]` instead of `arr[seq]`. In the future this will be interpreted as an array index, `arr[np.array(seq)]`, which will result either in an error or a different result.\n",
      "  \"\"\"Entry point for launching an IPython kernel.\n"
     ]
    },
    {
     "data": {
      "text/plain": [
       "array([1.])"
      ]
     },
     "execution_count": 35,
     "metadata": {},
     "output_type": "execute_result"
    }
   ],
   "source": [
    "number_labels[[predicted_cluster]]"
   ]
  },
  {
   "cell_type": "code",
   "execution_count": null,
   "metadata": {
    "colab": {},
    "colab_type": "code",
    "id": "kUM9HIRDNnGM"
   },
   "outputs": [],
   "source": []
  }
 ],
 "metadata": {
  "colab": {
   "collapsed_sections": [],
   "name": "Assignment2Kmeans.ipynb",
   "provenance": []
  },
  "kernelspec": {
   "display_name": "Python 3",
   "language": "python",
   "name": "python3"
  },
  "language_info": {
   "codemirror_mode": {
    "name": "ipython",
    "version": 3
   },
   "file_extension": ".py",
   "mimetype": "text/x-python",
   "name": "python",
   "nbconvert_exporter": "python",
   "pygments_lexer": "ipython3",
   "version": "3.7.6"
  }
 },
 "nbformat": 4,
 "nbformat_minor": 1
}
