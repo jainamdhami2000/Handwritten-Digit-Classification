{
 "cells": [
  {
   "cell_type": "code",
   "execution_count": null,
   "metadata": {
    "colab": {},
    "colab_type": "code",
    "id": "M2WBKxg8IKhs"
   },
   "outputs": [],
   "source": [
    "import numpy as np\n",
    "import matplotlib.pyplot as plt\n",
    "from keras.preprocessing.image import ImageDataGenerator\n",
    "import os, sys\n",
    "from IPython.display import display\n",
    "from IPython.display import Image as _Imgdis\n",
    "from PIL import Image\n",
    "import numpy as np\n",
    "from time import time\n",
    "from time import sleep\n",
    "from skimage import color\n",
    "from skimage import io"
   ]
  },
  {
   "cell_type": "markdown",
   "metadata": {
    "colab": {
     "base_uri": "https://localhost:8080/",
     "height": 55
    },
    "colab_type": "code",
    "id": "46FhLb_iKLFN",
    "outputId": "60b415f5-31e0-47cf-f4d1-305167749d93"
   },
   "source": []
  },
  {
   "cell_type": "markdown",
   "metadata": {
    "colab": {
     "base_uri": "https://localhost:8080/",
     "height": 1000
    },
    "colab_type": "code",
    "id": "uCCM1n4WXprV",
    "outputId": "c12f3d5a-f275-4d8b-a446-a64faf8eb5e9"
   },
   "source": []
  },
  {
   "cell_type": "markdown",
   "metadata": {
    "colab": {
     "base_uri": "https://localhost:8080/",
     "height": 35
    },
    "colab_type": "code",
    "id": "ag_m3pvB13b_",
    "outputId": "4dc271a6-39b2-4e94-e3ae-889d20a4ceb4"
   },
   "source": []
  },
  {
   "cell_type": "code",
   "execution_count": null,
   "metadata": {
    "colab": {},
    "colab_type": "code",
    "id": "OIsAcETvTnF2"
   },
   "outputs": [],
   "source": [
    "from skimage import color\n",
    "from skimage import io\n",
    "x_train=np.empty((42000,28,28),dtype='uint8')\n",
    "y_train = np.empty((42000,1),dtype='uint8')\n",
    "c = 0\n",
    "for x in range(10):\n",
    "    training_folder = \"trainingSet/trainingSet/\"+str(x)\n",
    "    X_train_file=[f for f in os.listdir(training_folder) if os.path.isfile(os.path.join(training_folder, f))] \n",
    "    for z in X_train_file:\n",
    "        x_train[c] = np.array(io.imread('trainingSet/trainingSet/'+str(x)+'/'+z))\n",
    "        y_train[c] = x\n",
    "        c+=1"
   ]
  },
  {
   "cell_type": "markdown",
   "metadata": {
    "colab": {
     "base_uri": "https://localhost:8080/",
     "height": 35
    },
    "colab_type": "code",
    "id": "Vv4pP_rnFKjK",
    "outputId": "e07c3653-fac9-4e51-999f-2f290d4a8a14"
   },
   "source": []
  },
  {
   "cell_type": "code",
   "execution_count": null,
   "metadata": {
    "colab": {},
    "colab_type": "code",
    "id": "2lm5ik_ra_fn"
   },
   "outputs": [],
   "source": [
    "x_test=np.empty((600,28,28),dtype='uint8')\n",
    "y_test = np.empty((600,1),dtype='uint8')\n",
    "c = 0\n",
    "for x in range(10):\n",
    "    testing_folder = \"trainingSample/trainingSample/\"+str(x)\n",
    "    X_test_file=[f for f in os.listdir(testing_folder) if os.path.isfile(os.path.join(testing_folder, f))] \n",
    "    for z in X_test_file:\n",
    "        x_test[c] = np.array(io.imread('trainingSample/trainingSample/'+str(x)+'/'+z))\n",
    "        y_test[c] = x\n",
    "        c+=1"
   ]
  },
  {
   "cell_type": "code",
   "execution_count": null,
   "metadata": {
    "colab": {
     "base_uri": "https://localhost:8080/",
     "height": 87
    },
    "colab_type": "code",
    "id": "TI4Nd2IgH2lC",
    "outputId": "3f875f43-f473-48e5-d99b-235eb293a48b"
   },
   "outputs": [],
   "source": [
    "print(type(x_train))\n",
    "print(type(x_test))\n",
    "print(type(y_train))\n",
    "print(type(y_test))\n",
    "# len(x_train)"
   ]
  },
  {
   "cell_type": "code",
   "execution_count": null,
   "metadata": {
    "colab": {
     "base_uri": "https://localhost:8080/",
     "height": 87
    },
    "colab_type": "code",
    "id": "ZfCyxcH_H8Pq",
    "outputId": "5cc981c9-787e-4190-8d34-0eedb29652f7"
   },
   "outputs": [],
   "source": [
    "print(x_train.shape)\n",
    "print(x_test.shape)\n",
    "print(y_train.shape)\n",
    "print(y_test.shape)"
   ]
  },
  {
   "cell_type": "code",
   "execution_count": null,
   "metadata": {
    "colab": {
     "base_uri": "https://localhost:8080/",
     "height": 557
    },
    "colab_type": "code",
    "id": "KCd6TNfOH-px",
    "outputId": "c55c0c0b-bb74-4b2b-8b28-35db3f188e50"
   },
   "outputs": [],
   "source": [
    "# (60000, 28, 28)\n",
    "# (10000, 28, 28)\n",
    "# (60000,)\n",
    "# (10000,)\n",
    "plt.gray() # B/W Images\n",
    "plt.figure(figsize = (10,9)) # Adjusting figure size\n",
    "# Displaying a grid of 3x3 images\n",
    "for i in range(9):\n",
    "    plt.subplot(3,3,i+1)\n",
    "    plt.imshow(x_train[i])"
   ]
  },
  {
   "cell_type": "code",
   "execution_count": null,
   "metadata": {
    "colab": {
     "base_uri": "https://localhost:8080/",
     "height": 104
    },
    "colab_type": "code",
    "id": "XLh3SSE7IEZv",
    "outputId": "c4aa34f1-0915-4b45-8f27-2a910e1b0eae"
   },
   "outputs": [],
   "source": [
    "# Printing examples in 'y_train'\n",
    "for i in range(5):\n",
    "    print(y_train[i])"
   ]
  },
  {
   "cell_type": "code",
   "execution_count": null,
   "metadata": {
    "colab": {
     "base_uri": "https://localhost:8080/",
     "height": 52
    },
    "colab_type": "code",
    "id": "EfhUwvFAIT0t",
    "outputId": "5b78d284-e393-40f0-b739-51917f21c720"
   },
   "outputs": [],
   "source": [
    "# Checking the minimum and maximum values of x_train\n",
    "print(x_train.min())\n",
    "print(x_train.max())"
   ]
  },
  {
   "cell_type": "code",
   "execution_count": null,
   "metadata": {
    "colab": {},
    "colab_type": "code",
    "id": "FSGU9DZIIhEb"
   },
   "outputs": [],
   "source": [
    "# Data Normalization\n",
    "# Conversion to float\n",
    "x_train = x_train.astype('float32') \n",
    "x_test = x_test.astype('float32')# Normalization\n",
    "x_train = x_train/255.0\n",
    "x_test = x_test/255.0"
   ]
  },
  {
   "cell_type": "code",
   "execution_count": null,
   "metadata": {
    "colab": {
     "base_uri": "https://localhost:8080/",
     "height": 52
    },
    "colab_type": "code",
    "id": "CImM6LOYIlTM",
    "outputId": "149aac80-6126-424b-ccfd-fe3a41aa1374"
   },
   "outputs": [],
   "source": [
    "# Checking the minimum and maximum values of x_train\n",
    "print(x_train.min())\n",
    "print(x_train.max())"
   ]
  },
  {
   "cell_type": "code",
   "execution_count": null,
   "metadata": {
    "colab": {},
    "colab_type": "code",
    "id": "mobCgylSIwtd"
   },
   "outputs": [],
   "source": [
    "# Reshaping input data\n",
    "X_train = x_train.reshape(len(x_train),-1)\n",
    "X_test = x_test.reshape(len(x_test),-1)"
   ]
  },
  {
   "cell_type": "code",
   "execution_count": null,
   "metadata": {
    "colab": {
     "base_uri": "https://localhost:8080/",
     "height": 52
    },
    "colab_type": "code",
    "id": "FeUWGC9OI3jO",
    "outputId": "5f633707-f2f3-48b1-bffa-e54933dede95"
   },
   "outputs": [],
   "source": [
    "# Checking the shape\n",
    "print(X_train.shape)\n",
    "print(X_test.shape)"
   ]
  },
  {
   "cell_type": "code",
   "execution_count": null,
   "metadata": {
    "colab": {
     "base_uri": "https://localhost:8080/",
     "height": 87
    },
    "colab_type": "code",
    "id": "v13SgIVGI6ke",
    "outputId": "3adbe778-9dbd-48ca-af08-3f2187564e7d"
   },
   "outputs": [],
   "source": [
    "from sklearn.cluster import MiniBatchKMeans\n",
    "total_clusters = len(np.unique(y_test))# Initialize the K-Means model\n",
    "kmeans = MiniBatchKMeans(n_clusters = total_clusters)# Fitting the model to training set\n",
    "kmeans.fit(X_train)"
   ]
  },
  {
   "cell_type": "code",
   "execution_count": null,
   "metadata": {
    "colab": {
     "base_uri": "https://localhost:8080/",
     "height": 35
    },
    "colab_type": "code",
    "id": "8iOkGFg7JBve",
    "outputId": "8c655596-4275-4cba-ed4c-cebd3c2546c5"
   },
   "outputs": [],
   "source": [
    "kmeans.labels_"
   ]
  },
  {
   "cell_type": "code",
   "execution_count": null,
   "metadata": {
    "colab": {},
    "colab_type": "code",
    "id": "r9e7vttyozkP"
   },
   "outputs": [],
   "source": [
    "y_train =  np.concatenate(y_train)\n",
    "y_test =  np.concatenate(y_test)"
   ]
  },
  {
   "cell_type": "code",
   "execution_count": null,
   "metadata": {
    "colab": {
     "base_uri": "https://localhost:8080/",
     "height": 35
    },
    "colab_type": "code",
    "id": "JYcq_iUcqNLc",
    "outputId": "ad7ce760-4fe7-464e-b38d-d27abf830fd7"
   },
   "outputs": [],
   "source": [
    "y_train"
   ]
  },
  {
   "cell_type": "code",
   "execution_count": null,
   "metadata": {
    "colab": {
     "base_uri": "https://localhost:8080/",
     "height": 35
    },
    "colab_type": "code",
    "id": "aCtcbn_bpzzN",
    "outputId": "484142de-b398-45ec-8d10-92c6e5a66ade"
   },
   "outputs": [],
   "source": [
    "y_train.shape"
   ]
  },
  {
   "cell_type": "code",
   "execution_count": null,
   "metadata": {
    "colab": {},
    "colab_type": "code",
    "id": "gJkiVXiDJRa3"
   },
   "outputs": [],
   "source": [
    "def retrieve_info(cluster_labels,y_train):\n",
    "    '''\n",
    "    Associates most probable label with each cluster in KMeans model\n",
    "    returns: dictionary of clusters assigned to each label\n",
    "    '''\n",
    "    # Initializing\n",
    "    reference_labels = {} # For loop to run through each label of cluster label\n",
    "    for i in range(len(np.unique(kmeans.labels_))):\n",
    "        index = np.where(cluster_labels == i,1,0)\n",
    "        num = np.bincount(y_train[index==1]).argmax()\n",
    "        reference_labels[i] = num\n",
    "    return reference_labels"
   ]
  },
  {
   "cell_type": "code",
   "execution_count": null,
   "metadata": {
    "colab": {
     "base_uri": "https://localhost:8080/",
     "height": 35
    },
    "colab_type": "code",
    "id": "vsekaj_PJcH4",
    "outputId": "9ca1fa52-9d19-4b73-c843-c213e00f4b66"
   },
   "outputs": [],
   "source": [
    "retrieve_info(kmeans.labels_,y_train)"
   ]
  },
  {
   "cell_type": "code",
   "execution_count": null,
   "metadata": {
    "colab": {},
    "colab_type": "code",
    "id": "rN_HuVe9Jy9L"
   },
   "outputs": [],
   "source": [
    "reference_labels = retrieve_info(kmeans.labels_,y_train)\n",
    "number_labels = np.random.rand(len(kmeans.labels_))\n",
    "for i in range(len(kmeans.labels_)):\n",
    "    number_labels[i] = reference_labels[kmeans.labels_[i]]"
   ]
  },
  {
   "cell_type": "code",
   "execution_count": null,
   "metadata": {
    "colab": {
     "base_uri": "https://localhost:8080/",
     "height": 52
    },
    "colab_type": "code",
    "id": "N-YMIl-3rrHo",
    "outputId": "b01dfd0c-9aa5-4ac3-d6c9-7bacefa6712a"
   },
   "outputs": [],
   "source": [
    "# Comparing Predicted values and Actual values\n",
    "print(number_labels[:20].astype('int'))\n",
    "print(y_train[:20])"
   ]
  },
  {
   "cell_type": "code",
   "execution_count": null,
   "metadata": {
    "colab": {
     "base_uri": "https://localhost:8080/",
     "height": 35
    },
    "colab_type": "code",
    "id": "4DSKuBFmrvR6",
    "outputId": "2646b4ef-d6be-4612-9deb-536e6221a174"
   },
   "outputs": [],
   "source": [
    "from sklearn.metrics import accuracy_score\n",
    "print(accuracy_score(number_labels,y_train))"
   ]
  },
  {
   "cell_type": "code",
   "execution_count": null,
   "metadata": {
    "colab": {
     "base_uri": "https://localhost:8080/",
     "height": 121
    },
    "colab_type": "code",
    "id": "cLOoutkxKD-B",
    "outputId": "9d8f2a35-46ee-4952-803d-ad24250958b8"
   },
   "outputs": [],
   "source": [
    "def calculate_metrics(model,output):\n",
    "    print('Number of clusters is {}'.format(model.n_clusters))\n",
    "    print('Inertia : {}'.format(model.inertia_))\n",
    "    print('Homogeneity :       {}'.format(metrics.homogeneity_score(output,model.labels_)))"
   ]
  },
  {
   "cell_type": "code",
   "execution_count": null,
   "metadata": {
    "colab": {
     "base_uri": "https://localhost:8080/",
     "height": 641
    },
    "colab_type": "code",
    "id": "E8lE_5FRKD-D",
    "outputId": "2f674cce-8879-406b-93fb-402d14654de7"
   },
   "outputs": [],
   "source": [
    "from sklearn import metrics\n",
    "cluster_number = [10,16,36,64,156,256]\n",
    "for i in cluster_number:\n",
    "    total_clusters = len(np.unique(y_test))# Initialize the K-Means model\n",
    "    kmeans = MiniBatchKMeans(n_clusters = i)# Fitting the model to training set\n",
    "    kmeans.fit(X_train)# Calculating the metrics\n",
    "    calculate_metrics(kmeans,y_train)# Calculating reference_labels\n",
    "    reference_labels = retrieve_info(kmeans.labels_,y_train)# ‘number_labels’ is a list which denotes the number displayed in image\n",
    "    number_labels = np.random.rand(len(kmeans.labels_))\n",
    "    for i in range(len(kmeans.labels_)):\n",
    "        number_labels[i] = reference_labels[kmeans.labels_[i]]\n",
    "    print('Accuracy score : {}'.format(accuracy_score(number_labels,y_train)))\n",
    "    print('\\n')"
   ]
  },
  {
   "cell_type": "code",
   "execution_count": null,
   "metadata": {
    "colab": {
     "base_uri": "https://localhost:8080/",
     "height": 121
    },
    "colab_type": "code",
    "id": "mg2NXQSPQAhU",
    "outputId": "b6903b44-fca9-4298-d580-791c9e2def81"
   },
   "outputs": [],
   "source": [
    "# Testing model on Testing set\n",
    "# Initialize the K-Means model\n",
    "kmeans = MiniBatchKMeans(n_clusters = 156)\n",
    "# Fitting the model to testing set\n",
    "kmeans.fit(X_test)\n",
    "# Calculating the metrics\n",
    "calculate_metrics(kmeans,y_test)\n",
    "# Calculating the reference_labels\n",
    "reference_labels = retrieve_info(kmeans.labels_,y_test)\n",
    "# ‘number_labels’ is a list which denotes the number displayed in image\n",
    "number_labels = np.random.rand(len(kmeans.labels_))\n",
    "for i in range(len(kmeans.labels_)):\n",
    "    number_labels[i] = reference_labels[kmeans.labels_[i]]\n",
    "print('Accuracy score : {}'.format(accuracy_score(number_labels,y_test)))\n",
    "print('\\n')"
   ]
  },
  {
   "cell_type": "code",
   "execution_count": null,
   "metadata": {
    "colab": {},
    "colab_type": "code",
    "id": "TarxvdS2ScDu"
   },
   "outputs": [],
   "source": [
    "# Cluster centroids is stored in ‘centroids’\n",
    "centroids = kmeans.cluster_centers_"
   ]
  },
  {
   "cell_type": "code",
   "execution_count": null,
   "metadata": {
    "colab": {
     "base_uri": "https://localhost:8080/",
     "height": 35
    },
    "colab_type": "code",
    "id": "cRYQIFdYSivJ",
    "outputId": "7b209e50-7af3-4e13-aa1e-f8852205fd3d"
   },
   "outputs": [],
   "source": [
    "centroids.shape"
   ]
  },
  {
   "cell_type": "code",
   "execution_count": null,
   "metadata": {
    "colab": {},
    "colab_type": "code",
    "id": "EBs-XGY2SmgN"
   },
   "outputs": [],
   "source": [
    "centroids = centroids.reshape(156,28,28)"
   ]
  },
  {
   "cell_type": "code",
   "execution_count": null,
   "metadata": {
    "colab": {},
    "colab_type": "code",
    "id": "_lmpSWqKSt5x"
   },
   "outputs": [],
   "source": [
    "centroids = centroids * 255"
   ]
  },
  {
   "cell_type": "code",
   "execution_count": null,
   "metadata": {
    "colab": {
     "base_uri": "https://localhost:8080/",
     "height": 537
    },
    "colab_type": "code",
    "id": "J90AO3zlSxMz",
    "outputId": "9b30648e-37ff-4cdd-d9c7-ad042fe52797"
   },
   "outputs": [],
   "source": [
    "plt.figure(figsize = (10,9))\n",
    "bottom = 0.35\n",
    "for i in range(16):\n",
    "    plt.subplots_adjust(bottom)\n",
    "    plt.subplot(4,4,i+1)\n",
    "    plt.title('Number:{}'.format(reference_labels[i]),fontsize = 17)\n",
    "    plt.imshow(centroids[i])"
   ]
  },
  {
   "cell_type": "code",
   "execution_count": null,
   "metadata": {
    "colab": {
     "base_uri": "https://localhost:8080/",
     "height": 283
    },
    "colab_type": "code",
    "id": "mx_AySeZS6YR",
    "outputId": "817d4ee9-e7e0-4c3e-ea00-0e0c42c3f637"
   },
   "outputs": [],
   "source": [
    "# Reading the image\n",
    "image = plt.imread('testSample/testSample/img_10.jpg')\n",
    "plt.imshow(image)\n"
   ]
  },
  {
   "cell_type": "code",
   "execution_count": null,
   "metadata": {
    "colab": {
     "base_uri": "https://localhost:8080/",
     "height": 35
    },
    "colab_type": "code",
    "id": "xD3iUV0JTZA7",
    "outputId": "4c17373c-ae07-43e8-8fdb-54c3dc672ebe"
   },
   "outputs": [],
   "source": [
    "image.shape"
   ]
  },
  {
   "cell_type": "code",
   "execution_count": null,
   "metadata": {
    "colab": {},
    "colab_type": "code",
    "id": "FJhlHtVjTcgd"
   },
   "outputs": [],
   "source": [
    "# RGB image is converted to Monochrome image\n",
    "from skimage import color\n",
    "from skimage import io\n",
    "image = io.imread('testSample/testSample/img_10.jpg')"
   ]
  },
  {
   "cell_type": "code",
   "execution_count": null,
   "metadata": {
    "colab": {},
    "colab_type": "code",
    "id": "sE-lHJzbTiue"
   },
   "outputs": [],
   "source": [
    "# Reshaping into a row vector\n",
    "image = image.reshape(1,28*28)"
   ]
  },
  {
   "cell_type": "code",
   "execution_count": null,
   "metadata": {
    "colab": {},
    "colab_type": "code",
    "id": "4G-PdSTpUKNw"
   },
   "outputs": [],
   "source": [
    "image = image.astype(np.float32)\n",
    "predicted_cluster = kmeans.predict(image)"
   ]
  },
  {
   "cell_type": "code",
   "execution_count": null,
   "metadata": {
    "colab": {
     "base_uri": "https://localhost:8080/",
     "height": 89
    },
    "colab_type": "code",
    "id": "yloctZ-dUNvR",
    "outputId": "7cfadc73-bd7f-44d2-8837-d9d7f85a9ad5"
   },
   "outputs": [],
   "source": [
    "number_labels[[predicted_cluster]]"
   ]
  }
 ],
 "metadata": {
  "colab": {
   "collapsed_sections": [],
   "name": "ass2_Kmeans.ipynb",
   "provenance": []
  },
  "kernelspec": {
   "display_name": "Python 3",
   "language": "python",
   "name": "python3"
  },
  "language_info": {
   "codemirror_mode": {
    "name": "ipython",
    "version": 3
   },
   "file_extension": ".py",
   "mimetype": "text/x-python",
   "name": "python",
   "nbconvert_exporter": "python",
   "pygments_lexer": "ipython3",
   "version": "3.7.6"
  }
 },
 "nbformat": 4,
 "nbformat_minor": 1
}
