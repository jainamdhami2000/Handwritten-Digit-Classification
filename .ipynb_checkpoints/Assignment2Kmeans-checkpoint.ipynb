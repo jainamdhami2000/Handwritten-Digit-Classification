{
 "cells": [
  {
   "cell_type": "markdown",
   "metadata": {
    "colab_type": "text",
    "id": "SSMnFb4_Fq75"
   },
   "source": [
    "# Importing Libraries"
   ]
  },
  {
   "cell_type": "code",
   "execution_count": 1,
   "metadata": {
    "colab": {},
    "colab_type": "code",
    "id": "M2WBKxg8IKhs"
   },
   "outputs": [
    {
     "name": "stderr",
     "output_type": "stream",
     "text": [
      "Using TensorFlow backend.\n"
     ]
    }
   ],
   "source": [
    "import numpy as np\n",
    "import matplotlib.pyplot as plt\n",
    "from keras.preprocessing.image import ImageDataGenerator\n",
    "import os, sys\n",
    "from IPython.display import display\n",
    "from IPython.display import Image as _Imgdis\n",
    "from PIL import Image\n",
    "import numpy as np\n",
    "from skimage import color\n",
    "from skimage import io"
   ]
  },
  {
   "cell_type": "markdown",
   "metadata": {
    "colab_type": "text",
    "id": "vLA8jWbuF505"
   },
   "source": [
    "Unzipping dataset in drive(if done on colab)"
   ]
  },
  {
   "cell_type": "code",
   "execution_count": 2,
   "metadata": {
    "colab": {
     "base_uri": "https://localhost:8080/",
     "height": 1000
    },
    "colab_type": "code",
    "id": "uCCM1n4WXprV",
    "outputId": "5d6a7aa2-4033-44d4-ebb6-5a29820c39cc"
   },
   "outputs": [
    {
     "name": "stdout",
     "output_type": "stream",
     "text": [
      "unzip:  cannot find or open drive/My Drive/1272_2280_bundle_archive.zip, drive/My Drive/1272_2280_bundle_archive.zip.zip or drive/My Drive/1272_2280_bundle_archive.zip.ZIP.\r\n"
     ]
    }
   ],
   "source": [
    "! unzip 'drive/My Drive/1272_2280_bundle_archive.zip'"
   ]
  },
  {
   "cell_type": "markdown",
   "metadata": {
    "colab_type": "text",
    "id": "axdnogzNGzLk"
   },
   "source": [
    "## Importing Training Set"
   ]
  },
  {
   "cell_type": "markdown",
   "metadata": {
    "colab_type": "text",
    "id": "E9wJBJQrGGLO"
   },
   "source": [
    "Taking all file names of images in the training set folder (trainingSet) and converting to a numpy array"
   ]
  },
  {
   "cell_type": "code",
   "execution_count": 3,
   "metadata": {
    "colab": {},
    "colab_type": "code",
    "id": "OIsAcETvTnF2"
   },
   "outputs": [
    {
     "ename": "FileNotFoundError",
     "evalue": "[Errno 2] No such file or directory: 'trainingSet/trainingSet/0'",
     "output_type": "error",
     "traceback": [
      "\u001b[0;31m---------------------------------------------------------------------------\u001b[0m",
      "\u001b[0;31mFileNotFoundError\u001b[0m                         Traceback (most recent call last)",
      "\u001b[0;32m<ipython-input-3-85578986a74b>\u001b[0m in \u001b[0;36m<module>\u001b[0;34m\u001b[0m\n\u001b[1;32m      6\u001b[0m \u001b[0;32mfor\u001b[0m \u001b[0mx\u001b[0m \u001b[0;32min\u001b[0m \u001b[0mrange\u001b[0m\u001b[0;34m(\u001b[0m\u001b[0;36m10\u001b[0m\u001b[0;34m)\u001b[0m\u001b[0;34m:\u001b[0m\u001b[0;34m\u001b[0m\u001b[0;34m\u001b[0m\u001b[0m\n\u001b[1;32m      7\u001b[0m    \u001b[0mtraining_folder\u001b[0m \u001b[0;34m=\u001b[0m \u001b[0;34m\"trainingSet/trainingSet/\"\u001b[0m\u001b[0;34m+\u001b[0m\u001b[0mstr\u001b[0m\u001b[0;34m(\u001b[0m\u001b[0mx\u001b[0m\u001b[0;34m)\u001b[0m\u001b[0;34m\u001b[0m\u001b[0;34m\u001b[0m\u001b[0m\n\u001b[0;32m----> 8\u001b[0;31m    \u001b[0mX_train_file\u001b[0m\u001b[0;34m=\u001b[0m\u001b[0;34m[\u001b[0m\u001b[0mf\u001b[0m \u001b[0;32mfor\u001b[0m \u001b[0mf\u001b[0m \u001b[0;32min\u001b[0m \u001b[0mos\u001b[0m\u001b[0;34m.\u001b[0m\u001b[0mlistdir\u001b[0m\u001b[0;34m(\u001b[0m\u001b[0mtraining_folder\u001b[0m\u001b[0;34m)\u001b[0m \u001b[0;32mif\u001b[0m \u001b[0mos\u001b[0m\u001b[0;34m.\u001b[0m\u001b[0mpath\u001b[0m\u001b[0;34m.\u001b[0m\u001b[0misfile\u001b[0m\u001b[0;34m(\u001b[0m\u001b[0mos\u001b[0m\u001b[0;34m.\u001b[0m\u001b[0mpath\u001b[0m\u001b[0;34m.\u001b[0m\u001b[0mjoin\u001b[0m\u001b[0;34m(\u001b[0m\u001b[0mtraining_folder\u001b[0m\u001b[0;34m,\u001b[0m \u001b[0mf\u001b[0m\u001b[0;34m)\u001b[0m\u001b[0;34m)\u001b[0m\u001b[0;34m]\u001b[0m\u001b[0;34m\u001b[0m\u001b[0;34m\u001b[0m\u001b[0m\n\u001b[0m\u001b[1;32m      9\u001b[0m    \u001b[0;32mfor\u001b[0m \u001b[0mz\u001b[0m \u001b[0;32min\u001b[0m \u001b[0mX_train_file\u001b[0m\u001b[0;34m:\u001b[0m\u001b[0;34m\u001b[0m\u001b[0;34m\u001b[0m\u001b[0m\n\u001b[1;32m     10\u001b[0m      \u001b[0mx_train\u001b[0m\u001b[0;34m[\u001b[0m\u001b[0mc\u001b[0m\u001b[0;34m]\u001b[0m \u001b[0;34m=\u001b[0m \u001b[0mnp\u001b[0m\u001b[0;34m.\u001b[0m\u001b[0marray\u001b[0m\u001b[0;34m(\u001b[0m\u001b[0mio\u001b[0m\u001b[0;34m.\u001b[0m\u001b[0mimread\u001b[0m\u001b[0;34m(\u001b[0m\u001b[0;34m'trainingSet/trainingSet/'\u001b[0m\u001b[0;34m+\u001b[0m\u001b[0mstr\u001b[0m\u001b[0;34m(\u001b[0m\u001b[0mx\u001b[0m\u001b[0;34m)\u001b[0m\u001b[0;34m+\u001b[0m\u001b[0;34m'/'\u001b[0m\u001b[0;34m+\u001b[0m\u001b[0mz\u001b[0m\u001b[0;34m)\u001b[0m\u001b[0;34m)\u001b[0m\u001b[0;34m\u001b[0m\u001b[0;34m\u001b[0m\u001b[0m\n",
      "\u001b[0;31mFileNotFoundError\u001b[0m: [Errno 2] No such file or directory: 'trainingSet/trainingSet/0'"
     ]
    }
   ],
   "source": [
    "from skimage import color\n",
    "from skimage import io\n",
    "x_train=np.empty((42000,28,28),dtype='uint8')\n",
    "y_train = np.empty((42000,1),dtype='uint8')\n",
    "c = 0\n",
    "for x in range(10):\n",
    "   training_folder = \"trainingSet/trainingSet/\"+str(x)\n",
    "   X_train_file=[f for f in os.listdir(training_folder) if os.path.isfile(os.path.join(training_folder, f))] \n",
    "   for z in X_train_file:\n",
    "     x_train[c] = np.array(io.imread('trainingSet/trainingSet/'+str(x)+'/'+z))\n",
    "     y_train[c] = x\n",
    "     c+=1"
   ]
  },
  {
   "cell_type": "markdown",
   "metadata": {
    "colab_type": "text",
    "id": "brS_8f-AG6tV"
   },
   "source": [
    "## Importing Training Set"
   ]
  },
  {
   "cell_type": "markdown",
   "metadata": {
    "colab_type": "text",
    "id": "uETxFP9XG9qe"
   },
   "source": [
    "Taking all file names of images in the test set folder (trainingSample) and converting to a numpy array"
   ]
  },
  {
   "cell_type": "code",
   "execution_count": null,
   "metadata": {
    "colab": {},
    "colab_type": "code",
    "id": "2lm5ik_ra_fn"
   },
   "outputs": [],
   "source": [
    "x_test=np.empty((600,28,28),dtype='uint8')\n",
    "y_test = np.empty((600,1),dtype='uint8')\n",
    "c = 0\n",
    "for x in range(10):\n",
    "   testing_folder = \"trainingSample/trainingSample/\"+str(x)\n",
    "   X_test_file=[f for f in os.listdir(testing_folder) if os.path.isfile(os.path.join(testing_folder, f))] \n",
    "   for z in X_test_file:\n",
    "     x_test[c] = np.array(io.imread('trainingSample/trainingSample/'+str(x)+'/'+z))\n",
    "     y_test[c] = x\n",
    "     c+=1"
   ]
  },
  {
   "cell_type": "markdown",
   "metadata": {
    "colab_type": "text",
    "id": "XBENfmUeHIAn"
   },
   "source": [
    "Checking type of training and test set"
   ]
  },
  {
   "cell_type": "code",
   "execution_count": null,
   "metadata": {
    "colab": {
     "base_uri": "https://localhost:8080/",
     "height": 104
    },
    "colab_type": "code",
    "id": "TI4Nd2IgH2lC",
    "outputId": "c6b189f5-dbda-4fde-9df8-66f52d3342bc"
   },
   "outputs": [],
   "source": [
    "print(type(x_train))\n",
    "print(type(x_test))\n",
    "print(type(y_train))\n",
    "print(type(y_test))\n",
    "len(x_train)"
   ]
  },
  {
   "cell_type": "markdown",
   "metadata": {
    "colab_type": "text",
    "id": "deTrwzNDHM8t"
   },
   "source": [
    "Checking shape of training and test set"
   ]
  },
  {
   "cell_type": "code",
   "execution_count": null,
   "metadata": {
    "colab": {
     "base_uri": "https://localhost:8080/",
     "height": 86
    },
    "colab_type": "code",
    "id": "ZfCyxcH_H8Pq",
    "outputId": "09fd5d72-8678-47e9-ddf1-ef7d13a37ae4"
   },
   "outputs": [],
   "source": [
    "print(x_train.shape)\n",
    "print(x_test.shape)\n",
    "print(y_train.shape)\n",
    "print(y_test.shape)"
   ]
  },
  {
   "cell_type": "markdown",
   "metadata": {
    "colab_type": "text",
    "id": "5apkXMIyHRjb"
   },
   "source": [
    "Displaying first 9 images of training set"
   ]
  },
  {
   "cell_type": "code",
   "execution_count": null,
   "metadata": {
    "colab": {
     "base_uri": "https://localhost:8080/",
     "height": 556
    },
    "colab_type": "code",
    "id": "KCd6TNfOH-px",
    "outputId": "0eafd3a3-303b-45ff-e417-b75b9e25c587"
   },
   "outputs": [],
   "source": [
    "plt.gray() # B/W Images\n",
    "plt.figure(figsize = (10,9)) # Adjusting figure size\n",
    "# Displaying a grid of 3x3 images\n",
    "for i in range(9):\n",
    " plt.subplot(3,3,i+1)\n",
    " plt.imshow(x_train[i])"
   ]
  },
  {
   "cell_type": "markdown",
   "metadata": {
    "colab_type": "text",
    "id": "oqKnE6p9HZLF"
   },
   "source": [
    "Printing examples in 'y_train'"
   ]
  },
  {
   "cell_type": "code",
   "execution_count": null,
   "metadata": {
    "colab": {
     "base_uri": "https://localhost:8080/",
     "height": 104
    },
    "colab_type": "code",
    "id": "XLh3SSE7IEZv",
    "outputId": "0fbae7de-c5a9-45ea-8335-1e5eeb3c22b9"
   },
   "outputs": [],
   "source": [
    "# Printing examples in 'y_train'\n",
    "for i in range(5):\n",
    "  print(y_train[i][0])"
   ]
  },
  {
   "cell_type": "markdown",
   "metadata": {
    "colab_type": "text",
    "id": "mQaPzYYjHb6J"
   },
   "source": [
    "Checking the minimum and maximum values of x_train"
   ]
  },
  {
   "cell_type": "code",
   "execution_count": null,
   "metadata": {
    "colab": {
     "base_uri": "https://localhost:8080/",
     "height": 52
    },
    "colab_type": "code",
    "id": "EfhUwvFAIT0t",
    "outputId": "4de995a7-3c5f-49d3-fbb7-c446f1edf215"
   },
   "outputs": [],
   "source": [
    "# Checking the minimum and maximum values of x_train\n",
    "print(x_train.min())\n",
    "print(x_train.max())"
   ]
  },
  {
   "cell_type": "markdown",
   "metadata": {
    "colab_type": "text",
    "id": "jL2M4cOXHjMJ"
   },
   "source": [
    "Data Normalization"
   ]
  },
  {
   "cell_type": "code",
   "execution_count": null,
   "metadata": {
    "colab": {},
    "colab_type": "code",
    "id": "FSGU9DZIIhEb"
   },
   "outputs": [],
   "source": [
    "# Data Normalization\n",
    "# Conversion to float\n",
    "x_train = x_train.astype('float32') \n",
    "x_test = x_test.astype('float32')# Normalization\n",
    "x_train = x_train/255.0\n",
    "x_test = x_test/255.0"
   ]
  },
  {
   "cell_type": "markdown",
   "metadata": {
    "colab_type": "text",
    "id": "4VaGDN8nHlW1"
   },
   "source": [
    "Checking the minimum and maximum values of x_train"
   ]
  },
  {
   "cell_type": "code",
   "execution_count": null,
   "metadata": {
    "colab": {
     "base_uri": "https://localhost:8080/",
     "height": 52
    },
    "colab_type": "code",
    "id": "CImM6LOYIlTM",
    "outputId": "f1cdc4d8-6719-41bd-d7bd-3a607cb3e4f7"
   },
   "outputs": [],
   "source": [
    "# Checking the minimum and maximum values of x_train\n",
    "print(x_train.min())\n",
    "print(x_train.max())"
   ]
  },
  {
   "cell_type": "markdown",
   "metadata": {
    "colab_type": "text",
    "id": "Rbdu7FI7HnJD"
   },
   "source": [
    "Reshaping input data since the input data have to be converted from 3 dimensional format to 2 dimensional format to be fed into the K-Means Clustering algorithm"
   ]
  },
  {
   "cell_type": "code",
   "execution_count": null,
   "metadata": {
    "colab": {},
    "colab_type": "code",
    "id": "mobCgylSIwtd"
   },
   "outputs": [],
   "source": [
    "# Reshaping input data\n",
    "X_train = x_train.reshape(len(x_train),-1)\n",
    "X_test = x_test.reshape(len(x_test),-1)"
   ]
  },
  {
   "cell_type": "code",
   "execution_count": null,
   "metadata": {
    "colab": {
     "base_uri": "https://localhost:8080/",
     "height": 52
    },
    "colab_type": "code",
    "id": "FeUWGC9OI3jO",
    "outputId": "918a3f3e-5b88-48e6-a549-23697f4861a0"
   },
   "outputs": [],
   "source": [
    "# Checking the shape\n",
    "print(X_train.shape)\n",
    "print(X_test.shape)"
   ]
  },
  {
   "cell_type": "markdown",
   "metadata": {
    "colab_type": "text",
    "id": "gbjT9TX_IDyu"
   },
   "source": [
    "### Building the model"
   ]
  },
  {
   "cell_type": "code",
   "execution_count": null,
   "metadata": {
    "colab": {
     "base_uri": "https://localhost:8080/",
     "height": 86
    },
    "colab_type": "code",
    "id": "v13SgIVGI6ke",
    "outputId": "ab93adef-8171-457c-f0d9-eb5bca821ee8"
   },
   "outputs": [],
   "source": [
    "from sklearn.cluster import MiniBatchKMeans\n",
    "total_clusters = len(np.unique(y_test))\n",
    "kmeans = MiniBatchKMeans(n_clusters = total_clusters)\n",
    "kmeans.fit(X_train)"
   ]
  },
  {
   "cell_type": "code",
   "execution_count": null,
   "metadata": {
    "colab": {
     "base_uri": "https://localhost:8080/",
     "height": 34
    },
    "colab_type": "code",
    "id": "8iOkGFg7JBve",
    "outputId": "cb686e36-528f-4652-9089-992259a0f008"
   },
   "outputs": [],
   "source": [
    "kmeans.labels_"
   ]
  },
  {
   "cell_type": "markdown",
   "metadata": {
    "colab_type": "text",
    "id": "ijodUK9eIeCX"
   },
   "source": [
    "Concatinating y_train and y_test since retrieve_info takes 1D array"
   ]
  },
  {
   "cell_type": "code",
   "execution_count": null,
   "metadata": {
    "colab": {},
    "colab_type": "code",
    "id": "C54MRZ0fuxp6"
   },
   "outputs": [],
   "source": [
    "y_train = np.concatenate(y_train)\n",
    "y_test = np.concatenate(y_test)"
   ]
  },
  {
   "cell_type": "markdown",
   "metadata": {
    "colab_type": "text",
    "id": "2WgQAMFEI3Ci"
   },
   "source": [
    " Associates most probable label with each cluster in KMeans model\n",
    "  returns: dictionary of clusters assigned to each label"
   ]
  },
  {
   "cell_type": "code",
   "execution_count": null,
   "metadata": {
    "colab": {},
    "colab_type": "code",
    "id": "gJkiVXiDJRa3"
   },
   "outputs": [],
   "source": [
    "def retrieve_info(cluster_labels,y_train):\n",
    "  # Initializing\n",
    "  reference_labels = {} \n",
    "  # For loop to run through each label of cluster label\n",
    "  for i in range(len(np.unique(kmeans.labels_))):\n",
    "    index = np.where(cluster_labels == i,1,0)\n",
    "    num = np.bincount(y_train[index==1]).argmax()\n",
    "    reference_labels[i] = num\n",
    "  return reference_labels"
   ]
  },
  {
   "cell_type": "code",
   "execution_count": null,
   "metadata": {
    "colab": {
     "base_uri": "https://localhost:8080/",
     "height": 34
    },
    "colab_type": "code",
    "id": "vsekaj_PJcH4",
    "outputId": "ee9c0269-a490-435a-dba9-5374bdb3a78a"
   },
   "outputs": [],
   "source": [
    "retrieve_info(kmeans.labels_,y_train)"
   ]
  },
  {
   "cell_type": "markdown",
   "metadata": {
    "colab_type": "text",
    "id": "CvoRdoPrJIhV"
   },
   "source": [
    "We run the ‘retrieve_info’ function and process it to get ‘number_labels’ which denotes the number displayed in image."
   ]
  },
  {
   "cell_type": "code",
   "execution_count": null,
   "metadata": {
    "colab": {},
    "colab_type": "code",
    "id": "rN_HuVe9Jy9L"
   },
   "outputs": [],
   "source": [
    "reference_labels = retrieve_info(kmeans.labels_,y_train)\n",
    "number_labels = np.random.rand(len(kmeans.labels_))\n",
    "for i in range(len(kmeans.labels_)):\n",
    "  number_labels[i] = reference_labels[kmeans.labels_[i]]"
   ]
  },
  {
   "cell_type": "markdown",
   "metadata": {
    "colab_type": "text",
    "id": "MHro9vzIJLb8"
   },
   "source": [
    "Comparing Predicted values and Actual values"
   ]
  },
  {
   "cell_type": "code",
   "execution_count": null,
   "metadata": {
    "colab": {
     "base_uri": "https://localhost:8080/",
     "height": 52
    },
    "colab_type": "code",
    "id": "N-YMIl-3rrHo",
    "outputId": "906e5284-0f9f-4a3e-f46a-795ddc3ca94a"
   },
   "outputs": [],
   "source": [
    "# Comparing Predicted values and Actual values\n",
    "print(number_labels[:20].astype('int'))\n",
    "print(y_train[:20])"
   ]
  },
  {
   "cell_type": "code",
   "execution_count": null,
   "metadata": {
    "colab": {
     "base_uri": "https://localhost:8080/",
     "height": 34
    },
    "colab_type": "code",
    "id": "4DSKuBFmrvR6",
    "outputId": "9ac79f01-8423-4b45-eb9e-9139f72f1e34"
   },
   "outputs": [],
   "source": [
    "# Calculating accuracy score\n",
    "from sklearn.metrics import accuracy_score\n",
    "print(accuracy_score(number_labels,y_train))"
   ]
  },
  {
   "cell_type": "markdown",
   "metadata": {
    "colab_type": "text",
    "id": "NezvNEBwJZV7"
   },
   "source": [
    "Function to calculate metrics for the model"
   ]
  },
  {
   "cell_type": "code",
   "execution_count": null,
   "metadata": {
    "colab": {},
    "colab_type": "code",
    "id": "z5nQr_oFsQRA"
   },
   "outputs": [],
   "source": [
    "# Function to calculate metrics for the model\n",
    "def calculate_metrics(model,output):\n",
    "  print('Number of clusters is {}'.format(model.n_clusters))\n",
    "  print('Inertia : {}'.format(model.inertia_))\n",
    "  print('Homogeneity :       {}'.format(metrics.homogeneity_score(output,model.labels_)))"
   ]
  },
  {
   "cell_type": "markdown",
   "metadata": {
    "colab_type": "text",
    "id": "SOqGbHt5JbdS"
   },
   "source": [
    "Applying K means randomply on a certain cluster numbers and checking the accuracy"
   ]
  },
  {
   "cell_type": "code",
   "execution_count": null,
   "metadata": {
    "colab": {
     "base_uri": "https://localhost:8080/",
     "height": 642
    },
    "colab_type": "code",
    "id": "qzHCEk8Pw6L9",
    "outputId": "9f66c898-f681-48d6-f739-ff546e0c8acb"
   },
   "outputs": [],
   "source": [
    "from sklearn import metrics\n",
    "cluster_number = [15,20,35,64,170,256]\n",
    "for i in cluster_number:\n",
    "  total_clusters = len(np.unique(y_test))# Initialize the K-Means model\n",
    "  kmeans = MiniBatchKMeans(n_clusters = i)# Fitting the model to training set\n",
    "  kmeans.fit(X_train)# Calculating the metrics\n",
    "  calculate_metrics(kmeans,y_train)# Calculating reference_labels\n",
    "  reference_labels = retrieve_info(kmeans.labels_,y_train)# ‘number_labels’ is a list which denotes the number displayed in image\n",
    "  number_labels = np.random.rand(len(kmeans.labels_))\n",
    "  for i in range(len(kmeans.labels_)):\n",
    "    number_labels[i] = reference_labels[kmeans.labels_[i]]\n",
    "  print('Accuracy score : {}'.format(accuracy_score(number_labels,y_train)))\n",
    "  print('\\n')"
   ]
  },
  {
   "cell_type": "markdown",
   "metadata": {
    "colab_type": "text",
    "id": "_FSJR7NfJpZA"
   },
   "source": [
    "Testing model on Testing set"
   ]
  },
  {
   "cell_type": "code",
   "execution_count": null,
   "metadata": {
    "colab": {
     "base_uri": "https://localhost:8080/",
     "height": 410
    },
    "colab_type": "code",
    "id": "16wN7bgCxaL9",
    "outputId": "4aa70be0-6894-496f-80ac-d8ded7e65e9a"
   },
   "outputs": [],
   "source": [
    "# Initialize the K-Means model\n",
    "kmeans = MiniBatchKMeans(n_clusters = 160)\n",
    "# Fitting the model to  testing set\n",
    "kmeans.fit(X_test)\n",
    "# Calculating the metrics\n",
    "calculate_metrics(kmeans,y_test)\n",
    "# Calculating the reference_labels\n",
    "reference_labels = retrieve_info(kmeans.labels_,y_test)\n",
    "# ‘number_labels’ is a list which denotes the number displayed in image\n",
    "number_labels = np.random.rand(len(kmeans.labels_))\n",
    "for i in range(len(kmeans.labels_)):\n",
    "  number_labels[i] = reference_labels[kmeans.labels_[i]] \n",
    "print('Accuracy score : {}'.format(accuracy_score(number_labels,y_test)))\n",
    "print('\\n')"
   ]
  },
  {
   "cell_type": "code",
   "execution_count": null,
   "metadata": {
    "colab": {},
    "colab_type": "code",
    "id": "EclAEh52zJ5x"
   },
   "outputs": [],
   "source": [
    "# Cluster centroids is stored in ‘centroids’\n",
    "centroids = kmeans.cluster_centers_"
   ]
  },
  {
   "cell_type": "code",
   "execution_count": null,
   "metadata": {
    "colab": {},
    "colab_type": "code",
    "id": "Hk-yoEpezMfe"
   },
   "outputs": [],
   "source": [
    "centroids.shape"
   ]
  },
  {
   "cell_type": "code",
   "execution_count": null,
   "metadata": {
    "colab": {},
    "colab_type": "code",
    "id": "5EPbUYfHzOOQ"
   },
   "outputs": [],
   "source": [
    "centroids = centroids.reshape(170,28,28)"
   ]
  },
  {
   "cell_type": "code",
   "execution_count": null,
   "metadata": {
    "colab": {},
    "colab_type": "code",
    "id": "uMl8itrQzQBN"
   },
   "outputs": [],
   "source": [
    "centroids = centroids * 255"
   ]
  },
  {
   "cell_type": "code",
   "execution_count": null,
   "metadata": {
    "colab": {},
    "colab_type": "code",
    "id": "fg3f2x3uzRZ4"
   },
   "outputs": [],
   "source": [
    "plt.figure(figsize = (10,9))\n",
    "bottom = 0.35\n",
    "for i in range(16):\n",
    "  plt.subplots_adjust(bottom)\n",
    "  plt.subplot(4,4,i+1)\n",
    "  plt.title('Number:{}'.format(reference_labels[i]),fontsize = 17)\n",
    "  plt.imshow(centroids[i])"
   ]
  },
  {
   "cell_type": "code",
   "execution_count": null,
   "metadata": {
    "colab": {},
    "colab_type": "code",
    "id": "7xRlrK6ZJ9QM"
   },
   "outputs": [],
   "source": [
    "# Reading the image\n",
    "image = plt.imread('testSample/testSample/img_10.jpg')\n",
    "plt.imshow(image)"
   ]
  },
  {
   "cell_type": "code",
   "execution_count": null,
   "metadata": {
    "colab": {},
    "colab_type": "code",
    "id": "sk69I5Ik2iJQ"
   },
   "outputs": [],
   "source": [
    "image = io.imread('testSample/testSample/img_39.jpg')"
   ]
  },
  {
   "cell_type": "code",
   "execution_count": null,
   "metadata": {
    "colab": {},
    "colab_type": "code",
    "id": "UOkwaw5-e-Us"
   },
   "outputs": [],
   "source": [
    "# Reshaping into a row vector\n",
    "image = image.reshape(1,28*28)"
   ]
  },
  {
   "cell_type": "code",
   "execution_count": null,
   "metadata": {
    "colab": {},
    "colab_type": "code",
    "id": "oIX5XfIr3OPr"
   },
   "outputs": [],
   "source": [
    "image = image.astype(np.float32)"
   ]
  },
  {
   "cell_type": "code",
   "execution_count": null,
   "metadata": {
    "colab": {},
    "colab_type": "code",
    "id": "VoUOxRpn1gpD"
   },
   "outputs": [],
   "source": [
    "predicted_cluster = kmeans.predict(image)"
   ]
  },
  {
   "cell_type": "code",
   "execution_count": null,
   "metadata": {
    "colab": {
     "base_uri": "https://localhost:8080/",
     "height": 89
    },
    "colab_type": "code",
    "id": "CHeA9PC72FJR",
    "outputId": "ead7b87d-c1e7-4e65-a685-66fa0d2ce24f"
   },
   "outputs": [],
   "source": [
    "number_labels[[predicted_cluster]]"
   ]
  }
 ],
 "metadata": {
  "colab": {
   "collapsed_sections": [],
   "name": "Assignment2Kmeans.ipynb",
   "provenance": []
  },
  "kernelspec": {
   "display_name": "Python 3",
   "language": "python",
   "name": "python3"
  },
  "language_info": {
   "codemirror_mode": {
    "name": "ipython",
    "version": 3
   },
   "file_extension": ".py",
   "mimetype": "text/x-python",
   "name": "python",
   "nbconvert_exporter": "python",
   "pygments_lexer": "ipython3",
   "version": "3.7.6"
  }
 },
 "nbformat": 4,
 "nbformat_minor": 1
}
